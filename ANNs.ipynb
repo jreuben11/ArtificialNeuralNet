{
 "cells": [
  {
   "cell_type": "code",
   "execution_count": 158,
   "metadata": {
    "collapsed": true
   },
   "outputs": [],
   "source": [
    "import numpy as np\n",
    "import matplotlib.pyplot as plt\n",
    "from IPython.display import display\n",
    "%matplotlib inline"
   ]
  },
  {
   "cell_type": "markdown",
   "metadata": {},
   "source": [
    "# 1 Data & Architecture"
   ]
  },
  {
   "cell_type": "code",
   "execution_count": 279,
   "metadata": {
    "collapsed": false
   },
   "outputs": [
    {
     "data": {
      "text/plain": [
       "(3, 2)"
      ]
     },
     "execution_count": 279,
     "metadata": {},
     "output_type": "execute_result"
    }
   ],
   "source": [
    "X = np.array(([3,5],[5,1],[10,2]), dtype=float)    # hours sleep, hours study - input matrix: 3 samples, 2 features\n",
    "y = np.array(([75],[82],[95]), dtype=float)        # test score\n",
    "#normalize data:\n",
    "X = X / np.amax(X, axis=0)\n",
    "y = y / 100\n",
    "X.shape"
   ]
  },
  {
   "cell_type": "code",
   "execution_count": 69,
   "metadata": {
    "collapsed": false
   },
   "outputs": [
    {
     "data": {
      "text/latex": [
       "\\[\n",
       "    \\textsf{Neurons sum inputs from synapses}\n",
       "\\]\n",
       "\\[\n",
       "    z = x1 + x2 + x3 = \\sum xi\n",
       "\\]\n",
       "\\[\n",
       "    \\textsf{and apply a sigmoid activation function}\n",
       "\\]\n",
       "\\[\n",
       "    a = \\frac{1}{1 + e^{-z}}\n",
       "\\]"
      ],
      "text/plain": [
       "<IPython.core.display.Latex object>"
      ]
     },
     "metadata": {},
     "output_type": "display_data"
    }
   ],
   "source": [
    "%%latex\n",
    "\\[\n",
    "    \\textsf{Neurons sum inputs from synapses}\n",
    "\\]\n",
    "\\[\n",
    "    z = x1 + x2 + x3 = \\sum xi\n",
    "\\]\n",
    "\\[\n",
    "    \\textsf{and apply a sigmoid activation function}\n",
    "\\]\n",
    "\\[\n",
    "    a = \\frac{1}{1 + e^{-z}}\n",
    "\\]"
   ]
  },
  {
   "cell_type": "markdown",
   "metadata": {},
   "source": [
    "# 2 Forward Propogation"
   ]
  },
  {
   "cell_type": "code",
   "execution_count": 255,
   "metadata": {
    "collapsed": false
   },
   "outputs": [],
   "source": [
    "class Neural_Network(object):\n",
    "    def __init__(self):\n",
    "        # define hyperparams (constants that establish structure & behaviour of network;not updated while training):\n",
    "        self.inputLayerSize = 2 # corespond to number of features\n",
    "        self.hiddenLayerSize = 3\n",
    "        self.outputLayerSize = 1\n",
    "        # define params: weights on synapses\n",
    "        self.W1 = np.random.randn(self.inputLayerSize , self.hiddenLayerSize)\n",
    "        self.W2 = np.random.randn(self.hiddenLayerSize , self.outputLayerSize)\n",
    "        \n",
    "    #2\n",
    "    def forward(self,X):\n",
    "        # propogate weights through network\n",
    "        # use matrices to pass multiple inputs at once\n",
    "        self.z2 = np.dot(X, self.W1)\n",
    "        self.a2 = self.sigmoid(self.z2)\n",
    "        self.z3 = np.dot(self.a2, self.W2)\n",
    "        yHat = self.sigmoid(self.z3)\n",
    "        return yHat\n",
    "    \n",
    "    def sigmoid(self,z):\n",
    "        # apply sigmoind to scalar / vector / matrix\n",
    "        return 1 / (1 + np.exp(-z))\n",
    "    \n",
    "    #3\n",
    "    def sigmoidPrime(self,z):\n",
    "        # backpropagation \n",
    "        return np.exp(-z) / ((1 + np.exp(-z))**2)\n",
    "    \n",
    "    #4\n",
    "    def costFunction(self, X, y):\n",
    "        self.yHat = self.forward(X)\n",
    "        J = 0.5 * sum((y - self.yHat)**2)\n",
    "        return J\n",
    "    \n",
    "    def costFunctionPrime(self, X, y):\n",
    "        # batch gradient descent\n",
    "        # compute derivative with respect to W1 and W2\n",
    "        # ie which way is uphill in our 9D optimization space\n",
    "        self.yHat = self.forward(X)\n",
    "        #backpropagation error: delta\n",
    "        delta3 = np.multiply(-(y - yHat), self.sigmoidPrime(self.z3))\n",
    "        dJdW2 = np.dot(self.a2.T, delta3) \n",
    "        delta2 = np.dot(delta3, self.W2.T) * self.sigmoidPrime(self.z2)\n",
    "        dJdW1 = np.dot(X.T, delta2)\n",
    "        return dJdW1, dJdW2\n",
    "    \n",
    "    #5\n",
    "    def getParams(self):\n",
    "        # get W1 and W2 rolled into 1 vector\n",
    "        params = np.concatenate((self.W1.ravel(), self.W2.ravel()))\n",
    "        return params\n",
    "    def setParams(self, params):\n",
    "        # Set W1 and W2 using single param vector\n",
    "        W1_start = 0\n",
    "        W1_end = self.hiddenLayerSize * self.inputLayerSize\n",
    "        self.W1 = np.reshape(params[W1_start:W1_end], (self.inputLayerSize, self.hiddenLayerSize))\n",
    "        W2_end = W1_end + self.hiddenLayerSize * self.outputLayerSize\n",
    "        self.W2 = np.reshape(params[W1_end:W2_end], (self.hiddenLayerSize, self.outputLayerSize))\n",
    "    \n",
    "    def computeGradients(self, X, y):\n",
    "        dJdW1, dJdW2 = self.costFunctionPrime(X,y)\n",
    "        return np.concatenate((dJdW1.ravel(),dJdW2.ravel()))\n",
    "        \n",
    "    \n",
    "NN = Neural_Network()        "
   ]
  },
  {
   "cell_type": "code",
   "execution_count": 92,
   "metadata": {
    "collapsed": false
   },
   "outputs": [
    {
     "data": {
      "text/latex": [
       "\\[\n",
       "\\begin{bmatrix}\n",
       "    3 & 5 \\\\ \n",
       "    5 & 1 \\\\ \n",
       "    10 & 2\n",
       "\\end{bmatrix}\n",
       "\\begin{bmatrix}\n",
       "    W_{11}^{(1)} & W_{12}^{(1)} & W_{13}^{(1)}\\\\ \n",
       "    W_{21}^{(1)} & W_{22}^{(1)} & W_{23}^{(1)}\n",
       "\\end{bmatrix}\n",
       "=\n",
       "\\begin{bmatrix}\n",
       "    3W_{11}^{(1)} + 5W_{21}^{(1)} & 3W_{12}^{(1)} + 5W_{22}^{(1)} & 3W_{13}^{(1)} + 5W_{23}^{(1)} \\\\ \n",
       "    5W_{11}^{(1)} + 1W_{21}^{(1)} & 5W_{12}^{(1)} + 1W_{22}^{(1)} & 5W_{13}^{(1)} + 1W_{23}^{(1)} \\\\\n",
       "    10W_{11}^{(1)} + 2W_{21}^{(1)} & 10W_{12}^{(1)} + 2W_{22}^{(1)} & 10W_{13}^{(1)} + 2W_{23}^{(1)}\n",
       "\\end{bmatrix}\n",
       "\\]\n",
       "\\[\n",
       "    X W^{(1)} = Z^{(2)}\n",
       "\\]"
      ],
      "text/plain": [
       "<IPython.core.display.Latex object>"
      ]
     },
     "metadata": {},
     "output_type": "display_data"
    }
   ],
   "source": [
    "%%latex\n",
    "\\[\n",
    "\\begin{bmatrix}\n",
    "    3 & 5 \\\\ \n",
    "    5 & 1 \\\\ \n",
    "    10 & 2\n",
    "\\end{bmatrix}\n",
    "\\begin{bmatrix}\n",
    "    W_{11}^{(1)} & W_{12}^{(1)} & W_{13}^{(1)}\\\\ \n",
    "    W_{21}^{(1)} & W_{22}^{(1)} & W_{23}^{(1)}\n",
    "\\end{bmatrix}\n",
    "=\n",
    "\\begin{bmatrix}\n",
    "    3W_{11}^{(1)} + 5W_{21}^{(1)} & 3W_{12}^{(1)} + 5W_{22}^{(1)} & 3W_{13}^{(1)} + 5W_{23}^{(1)} \\\\ \n",
    "    5W_{11}^{(1)} + 1W_{21}^{(1)} & 5W_{12}^{(1)} + 1W_{22}^{(1)} & 5W_{13}^{(1)} + 1W_{23}^{(1)} \\\\\n",
    "    10W_{11}^{(1)} + 2W_{21}^{(1)} & 10W_{12}^{(1)} + 2W_{22}^{(1)} & 10W_{13}^{(1)} + 2W_{23}^{(1)}\n",
    "\\end{bmatrix}\n",
    "\\]\n",
    "\\[\n",
    "    X W^{(1)} = Z^{(2)}\n",
    "\\]"
   ]
  },
  {
   "cell_type": "code",
   "execution_count": 205,
   "metadata": {
    "collapsed": false
   },
   "outputs": [
    {
     "data": {
      "text/plain": [
       "<matplotlib.legend.Legend at 0x10fc32390>"
      ]
     },
     "execution_count": 205,
     "metadata": {},
     "output_type": "execute_result"
    },
    {
     "data": {
      "image/png": "[encoded data removed]",
      "text/plain": [
       "<matplotlib.figure.Figure at 0x10f8cc588>"
      ]
     },
     "metadata": {},
     "output_type": "display_data"
    }
   ],
   "source": [
    "\n",
    "testInput = np.arange(-6, 6, 0.01)\n",
    "plt.plot(testInput, NN.sigmoid(testInput), linewidth=2)\n",
    "plt.plot(testInput, NN.sigmoidPrime(testInput), linewidth=2) # largest where sigmoid is steepest\n",
    "plt.grid()\n",
    "plt.legend(['sigmoid', 'sigmoid prime'])"
   ]
  },
  {
   "cell_type": "code",
   "execution_count": 119,
   "metadata": {
    "collapsed": false
   },
   "outputs": [
    {
     "data": {
      "text/latex": [
       "\\[\n",
       "    z^{(2)} = X W^{(1)}\n",
       "\\]\n",
       "\\[\n",
       "    a^{(2)} = f(z^{(2)})\n",
       "\\]\n",
       "\\[\n",
       "    z^{(3)} = a^{(2)}W^{(2)}\n",
       "\\]\n",
       "\\[\\]\n",
       "\\[\n",
       "W^{(2)} = \n",
       "\\begin{bmatrix}\n",
       "    W^{(2)}_{(11)}  \\\\ \n",
       "    W^{(2)}_{(21)}  \\\\ \n",
       "    W^{(2)}_{(31)} \n",
       "\\end{bmatrix}  \n",
       "\\]\n",
       "\\[\n",
       "    \\hat{y} = f(z^{(3)})\n",
       "\\]"
      ],
      "text/plain": [
       "<IPython.core.display.Latex object>"
      ]
     },
     "metadata": {},
     "output_type": "display_data"
    }
   ],
   "source": [
    "%%latex\n",
    "\\[\n",
    "    z^{(2)} = X W^{(1)}\n",
    "\\]\n",
    "\\[\n",
    "    a^{(2)} = f(z^{(2)})\n",
    "\\]\n",
    "\\[\n",
    "    z^{(3)} = a^{(2)}W^{(2)}\n",
    "\\]\n",
    "\\[\\]\n",
    "\\[\n",
    "W^{(2)} = \n",
    "\\begin{bmatrix}\n",
    "    W^{(2)}_{(11)}  \\\\ \n",
    "    W^{(2)}_{(21)}  \\\\ \n",
    "    W^{(2)}_{(31)} \n",
    "\\end{bmatrix}  \n",
    "\\]\n",
    "\\[\n",
    "    \\hat{y} = f(z^{(3)})\n",
    "\\]"
   ]
  },
  {
   "cell_type": "code",
   "execution_count": null,
   "metadata": {
    "collapsed": true
   },
   "outputs": [],
   "source": []
  },
  {
   "cell_type": "code",
   "execution_count": 135,
   "metadata": {
    "collapsed": false
   },
   "outputs": [
    {
     "data": {
      "text/plain": [
       "array([[ 0.53030683],\n",
       "       [ 0.54199931],\n",
       "       [ 0.55222292]])"
      ]
     },
     "execution_count": 135,
     "metadata": {},
     "output_type": "execute_result"
    }
   ],
   "source": [
    "yHat = NN.forward(X)\n",
    "yHat"
   ]
  },
  {
   "cell_type": "markdown",
   "metadata": {},
   "source": [
    "# 3 Gradient Descent"
   ]
  },
  {
   "cell_type": "code",
   "execution_count": 157,
   "metadata": {
    "collapsed": false
   },
   "outputs": [
    {
     "data": {
      "text/latex": [
       "\\[\n",
       "    \\textsf{cost function, assuming convexity}\n",
       "\\]\n",
       "\\[\n",
       "   J = argmin(W) \\sum_{i=0} \\frac{1}{2} e_{i}^{2}\n",
       "\\]\n",
       "\\[\n",
       "  J = argmin(W) \\sum_{i=0} \\frac{1}{2} (y_{i}- \\hat{y_{i}})^{2}\n",
       "\\]\n",
       "\\[\n",
       "    W^{(1)} \\textsf{is a 3x3 matrix --> curse of dimensionality}\n",
       "\\]"
      ],
      "text/plain": [
       "<IPython.core.display.Latex object>"
      ]
     },
     "metadata": {},
     "output_type": "display_data"
    }
   ],
   "source": [
    "%%latex\n",
    "\\[\n",
    "    \\textsf{cost function, assuming convexity}\n",
    "\\]\n",
    "\\[\n",
    "   J = argmin(W) \\sum_{i=0} \\frac{1}{2} e_{i}^{2}\n",
    "\\]\n",
    "\\[\n",
    "  J = argmin(W) \\sum_{i=0} \\frac{1}{2} (y_{i}- \\hat{y_{i}})^{2}\n",
    "\\]\n",
    "\\[\n",
    "    W^{(1)} \\textsf{is a 3x3 matrix --> curse of dimensionality}\n",
    "\\]"
   ]
  },
  {
   "cell_type": "code",
   "execution_count": 156,
   "metadata": {
    "collapsed": false
   },
   "outputs": [
    {
     "data": {
      "text/latex": [
       "\\[\n",
       "    \\textsf{combined equation}\n",
       "\\]\n",
       "\\[\n",
       "   J = argmin(W) \\sum \\frac{1}{2} (y - f(f(XW^{(1)})W^{(2)}))^2\n",
       "\\]\n",
       "\\[\n",
       "    \\textsf{minimize cost J by choosing weights W - examine rate of change (gradient): stop when}\n",
       "\\]\n",
       "\\[\n",
       "    \\frac{\\partial J}{\\partial W}=0\n",
       "\\]"
      ],
      "text/plain": [
       "<IPython.core.display.Latex object>"
      ]
     },
     "metadata": {},
     "output_type": "display_data"
    }
   ],
   "source": [
    "%%latex\n",
    "\\[\n",
    "    \\textsf{combined equation}\n",
    "\\]\n",
    "\\[\n",
    "   J = argmin(W) \\sum \\frac{1}{2} (y - f(f(XW^{(1)})W^{(2)}))^2\n",
    "\\]\n",
    "\\[\n",
    "    \\textsf{minimize cost J by choosing weights W - examine rate of change (gradient): stop when}\n",
    "\\]\n",
    "\\[\n",
    "    \\frac{\\partial J}{\\partial W}=0\n",
    "\\]"
   ]
  },
  {
   "cell_type": "markdown",
   "metadata": {},
   "source": [
    "# 4 Backpropogation\n",
    "* (a long chain rule)\n",
    "* weights that contribute more to overall error will be changed more by SGD"
   ]
  },
  {
   "cell_type": "code",
   "execution_count": 160,
   "metadata": {
    "collapsed": false
   },
   "outputs": [
    {
     "data": {
      "text/plain": [
       "array([[ 0.22224692, -0.27898779,  1.71877036],\n",
       "       [ 0.23482195, -2.14545752, -0.10447487]])"
      ]
     },
     "metadata": {},
     "output_type": "display_data"
    },
    {
     "data": {
      "text/plain": [
       "(2, 3)"
      ]
     },
     "metadata": {},
     "output_type": "display_data"
    },
    {
     "data": {
      "text/plain": [
       "array([[-0.16169648],\n",
       "       [ 0.02736267],\n",
       "       [ 0.35196909]])"
      ]
     },
     "metadata": {},
     "output_type": "display_data"
    },
    {
     "data": {
      "text/plain": [
       "(3, 1)"
      ]
     },
     "metadata": {},
     "output_type": "display_data"
    }
   ],
   "source": [
    "display(NN.W1, NN.W1.shape)\n",
    "display(NN.W2, NN.W2.shape)"
   ]
  },
  {
   "cell_type": "code",
   "execution_count": 177,
   "metadata": {
    "collapsed": false
   },
   "outputs": [
    {
     "data": {
      "text/latex": [
       "\\[\n",
       "\\frac{\\partial J}{\\partial W^{(1)}}=\n",
       "\\begin{bmatrix}\n",
       "    \\frac{ \\partial J}{ \\partial{W_{11}^{(1)}}} & \n",
       "    \\frac{ \\partial J}{ \\partial{W_{12}^{(1)}}} & \n",
       "    \\frac{ \\partial J}{ \\partial{W_{13}^{(1)}}}\\\\ \n",
       "    \\frac{ \\partial J}{ \\partial{W_{21}^{(1)}}} & \n",
       "    \\frac{ \\partial J}{ \\partial{W_{22}^{(1)}}} & \n",
       "    \\frac{ \\partial J}{ \\partial{W_{23}^{(1)}}}\n",
       "\\end{bmatrix}\n",
       "\\]\n",
       "\\[\n",
       "    \n",
       "\\]\n",
       "\\[\n",
       "\\frac{\\partial J}{\\partial W^{(2)}}=\n",
       "\\begin{bmatrix}\n",
       "    \\frac{ \\partial J}{ \\partial{W_{11}^{(2)}}} \\\\ \n",
       "    \\frac{ \\partial J}{ \\partial{W_{21}^{(2)}}} \\\\\n",
       "    \\frac{ \\partial J}{ \\partial{W_{31}^{(2)}}}\n",
       "\\end{bmatrix}\n",
       "\\]"
      ],
      "text/plain": [
       "<IPython.core.display.Latex object>"
      ]
     },
     "metadata": {},
     "output_type": "display_data"
    }
   ],
   "source": [
    "%%latex\n",
    "\\[\n",
    "\\frac{\\partial J}{\\partial W^{(1)}}=\n",
    "\\begin{bmatrix}\n",
    "    \\frac{ \\partial J}{ \\partial{W_{11}^{(1)}}} & \n",
    "    \\frac{ \\partial J}{ \\partial{W_{12}^{(1)}}} & \n",
    "    \\frac{ \\partial J}{ \\partial{W_{13}^{(1)}}}\\\\ \n",
    "    \\frac{ \\partial J}{ \\partial{W_{21}^{(1)}}} & \n",
    "    \\frac{ \\partial J}{ \\partial{W_{22}^{(1)}}} & \n",
    "    \\frac{ \\partial J}{ \\partial{W_{23}^{(1)}}}\n",
    "\\end{bmatrix}\n",
    "\\]\n",
    "\\[\n",
    "    \n",
    "\\]\n",
    "\\[\n",
    "\\frac{\\partial J}{\\partial W^{(2)}}=\n",
    "\\begin{bmatrix}\n",
    "    \\frac{ \\partial J}{ \\partial{W_{11}^{(2)}}} \\\\ \n",
    "    \\frac{ \\partial J}{ \\partial{W_{21}^{(2)}}} \\\\\n",
    "    \\frac{ \\partial J}{ \\partial{W_{31}^{(2)}}}\n",
    "\\end{bmatrix}\n",
    "\\]\n"
   ]
  },
  {
   "cell_type": "code",
   "execution_count": 207,
   "metadata": {
    "collapsed": false
   },
   "outputs": [
    {
     "data": {
      "text/latex": [
       "\\[\n",
       "    \\textsf{sum rule in differentiation}\n",
       "\\]\n",
       "\\[\n",
       "    \\frac{d(u + v)}{dx} = \\frac{du}{dx} + \\frac{dv}{dx}\n",
       "\\]\n",
       "\\[\\]\n",
       "\\[\n",
       "    \\textsf{chain rule in differentiation}\n",
       "\\]\n",
       "\\[\n",
       "    (f \\circ g)' = (f' \\circ g) \\cdot g'\n",
       "\\]\n",
       "\\[\\]\n",
       "\\[\n",
       "    \\frac{dz}{dx} = \\frac{dz}{dy} \\cdot \\frac{dy}{dx}\n",
       "\\]"
      ],
      "text/plain": [
       "<IPython.core.display.Latex object>"
      ]
     },
     "metadata": {},
     "output_type": "display_data"
    }
   ],
   "source": [
    "%%latex\n",
    "\\[\n",
    "    \\textsf{sum rule in differentiation}\n",
    "\\]\n",
    "\\[\n",
    "    \\frac{d(u + v)}{dx} = \\frac{du}{dx} + \\frac{dv}{dx}\n",
    "\\]\n",
    "\\[\\]\n",
    "\\[\n",
    "    \\textsf{chain rule in differentiation}\n",
    "\\]\n",
    "\\[\n",
    "    (f \\circ g)' = (f' \\circ g) \\cdot g'\n",
    "\\]\n",
    "\\[\\]\n",
    "\\[\n",
    "    \\frac{dz}{dx} = \\frac{dz}{dy} \\cdot \\frac{dy}{dx}\n",
    "\\]"
   ]
  },
  {
   "cell_type": "code",
   "execution_count": 229,
   "metadata": {
    "collapsed": false
   },
   "outputs": [
    {
     "data": {
      "text/latex": [
       "\\[\\]\n",
       "\\[\n",
       "\\frac{\\partial J}{\\partial W^{(2)}} = \n",
       "\\frac{\\partial \\sum{\\frac{1}{2}(y - \\hat{y})^2}}{\\partial W^{(2)}} = \n",
       "\\sum{\\frac{\\partial \\frac{1}{2}(y - \\hat{y})^2}{\\partial W^{(2)}}}\n",
       "\\]\n",
       "\\[\\]\n",
       "\\[\n",
       "   \\textsf{power rule and chain rule} \n",
       "\\]\n",
       "\\[\n",
       "\\begin{bmatrix}\n",
       "    -y_{1} - \\hat{y_{1}} \\\\ \n",
       "    -y_{2} - \\hat{y_{2}} \\\\\n",
       "    -y_{3} - \\hat{y_{3}}\n",
       "\\end{bmatrix}\n",
       "\\begin{bmatrix}\n",
       "    f'(z_{1}^{(3)}) \\\\ \n",
       "    f'(z_{2}^{(3)}) \\\\\n",
       "    f'(z_{3}^{(3)})\n",
       "\\end{bmatrix}\n",
       "=\n",
       "\\begin{bmatrix}\n",
       "    \\delta _{1}^{(3)} \\\\ \n",
       "    \\delta _{2}^{(3)} \\\\\n",
       "    \\delta _{3}^{(3)} \n",
       "\\end{bmatrix}  \n",
       "    = \\delta ^{(3)}\n",
       "\\]\n",
       "\\[\n",
       "    (a^{(2)})^{T} \\delta ^{(3)} = \n",
       "\\begin{bmatrix}\n",
       "    a_{11}^{(2)} & a_{21}^{(2)} & a_{31}^{(2)} \\\\ \n",
       "    a_{12}^{(2)} & a_{22}^{(2)} & a_{32}^{(2)} \\\\\n",
       "    a_{13}^{(2)} & a_{23}^{(2)} & a_{33}^{(2)}  \n",
       "\\end{bmatrix}     \n",
       "\\begin{bmatrix}\n",
       "    \\delta _{1}^{(3)} \\\\ \n",
       "    \\delta _{2}^{(3)} \\\\\n",
       "    \\delta _{3}^{(3)} \n",
       "\\end{bmatrix} \n",
       "    =\n",
       "\\begin{bmatrix}\n",
       "    a_{11}^{(2)} \\delta _{1}^{(3)} + a_{21}^{(2)} \\delta _{2}^{(3)} + a_{31}^{(2)} \\delta _{3}^{(3)} \\\\ \n",
       "    a_{12}^{(2)} \\delta _{1}^{(3)} + a_{22}^{(2)} \\delta _{2}^{(3)} + a_{32}^{(2)} \\delta _{3}^{(3)} \\\\\n",
       "    a_{13}^{(2)} \\delta _{1}^{(3)} + a_{23}^{(2)} \\delta _{2}^{(3)} + a_{33}^{(2)} \\delta _{3}^{(3)} \n",
       "\\end{bmatrix}     \n",
       "\\]"
      ],
      "text/plain": [
       "<IPython.core.display.Latex object>"
      ]
     },
     "metadata": {},
     "output_type": "display_data"
    }
   ],
   "source": [
    "%%latex\n",
    "\\[\\]\n",
    "\\[\n",
    "\\frac{\\partial J}{\\partial W^{(2)}} = \n",
    "\\frac{\\partial \\sum{\\frac{1}{2}(y - \\hat{y})^2}}{\\partial W^{(2)}} = \n",
    "\\sum{\\frac{\\partial \\frac{1}{2}(y - \\hat{y})^2}{\\partial W^{(2)}}}\n",
    "\\]\n",
    "\\[\\]\n",
    "\\[\n",
    "   \\textsf{power rule and chain rule} \n",
    "\\]\n",
    "\\[\n",
    "\\begin{bmatrix}\n",
    "    -y_{1} - \\hat{y_{1}} \\\\ \n",
    "    -y_{2} - \\hat{y_{2}} \\\\\n",
    "    -y_{3} - \\hat{y_{3}}\n",
    "\\end{bmatrix}\n",
    "\\begin{bmatrix}\n",
    "    f'(z_{1}^{(3)}) \\\\ \n",
    "    f'(z_{2}^{(3)}) \\\\\n",
    "    f'(z_{3}^{(3)})\n",
    "\\end{bmatrix}\n",
    "=\n",
    "\\begin{bmatrix}\n",
    "    \\delta _{1}^{(3)} \\\\ \n",
    "    \\delta _{2}^{(3)} \\\\\n",
    "    \\delta _{3}^{(3)} \n",
    "\\end{bmatrix}  \n",
    "    = \\delta ^{(3)}\n",
    "\\]\n",
    "\\[\n",
    "    (a^{(2)})^{T} \\delta ^{(3)} = \n",
    "\\begin{bmatrix}\n",
    "    a_{11}^{(2)} & a_{21}^{(2)} & a_{31}^{(2)} \\\\ \n",
    "    a_{12}^{(2)} & a_{22}^{(2)} & a_{32}^{(2)} \\\\\n",
    "    a_{13}^{(2)} & a_{23}^{(2)} & a_{33}^{(2)}  \n",
    "\\end{bmatrix}     \n",
    "\\begin{bmatrix}\n",
    "    \\delta _{1}^{(3)} \\\\ \n",
    "    \\delta _{2}^{(3)} \\\\\n",
    "    \\delta _{3}^{(3)} \n",
    "\\end{bmatrix} \n",
    "    =\n",
    "\\begin{bmatrix}\n",
    "    a_{11}^{(2)} \\delta _{1}^{(3)} + a_{21}^{(2)} \\delta _{2}^{(3)} + a_{31}^{(2)} \\delta _{3}^{(3)} \\\\ \n",
    "    a_{12}^{(2)} \\delta _{1}^{(3)} + a_{22}^{(2)} \\delta _{2}^{(3)} + a_{32}^{(2)} \\delta _{3}^{(3)} \\\\\n",
    "    a_{13}^{(2)} \\delta _{1}^{(3)} + a_{23}^{(2)} \\delta _{2}^{(3)} + a_{33}^{(2)} \\delta _{3}^{(3)} \n",
    "\\end{bmatrix}     \n",
    "\\]"
   ]
  },
  {
   "cell_type": "markdown",
   "metadata": {},
   "source": [
    "simple linear relationship for:\n",
    "* each hidden-layer to output-layer synapse: dW2/dZ3 = a2 \n",
    "* each hidden-layer to output-layer synapse: dZ3/da2 = W2\n",
    "* each input-layer to hidden-layer synapse:  dZ2/dW1 = X"
   ]
  },
  {
   "cell_type": "code",
   "execution_count": 234,
   "metadata": {
    "collapsed": false
   },
   "outputs": [
    {
     "data": {
      "text/latex": [
       "\\[\n",
       "    \\frac{\\partial J}{\\partial W^{(2)}} = (a^{(2)})^{T} \\delta ^{(3)}\n",
       "\\]\n",
       "\\[\\]\n",
       "\\[\n",
       "    \\delta ^{(3)} = -(y - \\hat{y})f'(z^{(3)})\n",
       "\\]\n",
       "\\[\\]\n",
       "\\[\n",
       "    \\frac{\\partial J}{\\partial W^{(1)}} = X^{T} \\delta ^{(2)}\n",
       "\\]\n",
       "\\[\\]\n",
       "\\[\n",
       "    \\delta ^{(2)} = \\delta ^{(3)} (W^{(1)})^{T} f'(z^{(2)})\n",
       "\\]"
      ],
      "text/plain": [
       "<IPython.core.display.Latex object>"
      ]
     },
     "metadata": {},
     "output_type": "display_data"
    }
   ],
   "source": [
    "%%latex\n",
    "\\[\n",
    "    \\frac{\\partial J}{\\partial W^{(2)}} = (a^{(2)})^{T} \\delta ^{(3)}\n",
    "\\]\n",
    "\\[\\]\n",
    "\\[\n",
    "    \\delta ^{(3)} = -(y - \\hat{y})f'(z^{(3)})\n",
    "\\]\n",
    "\\[\\]\n",
    "\\[\n",
    "    \\frac{\\partial J}{\\partial W^{(1)}} = X^{T} \\delta ^{(2)}\n",
    "\\]\n",
    "\\[\\]\n",
    "\\[\n",
    "    \\delta ^{(2)} = \\delta ^{(3)} (W^{(1)})^{T} f'(z^{(2)})\n",
    "\\]"
   ]
  },
  {
   "cell_type": "code",
   "execution_count": 242,
   "metadata": {
    "collapsed": false
   },
   "outputs": [
    {
     "data": {
      "text/plain": [
       "(array([[ 0.02356812, -0.02571859,  0.05172803],\n",
       "        [ 0.02094194, -0.02520551,  0.03866296]]), array([[-0.03604346],\n",
       "        [-0.05906128],\n",
       "        [-0.09162464]]))"
      ]
     },
     "execution_count": 242,
     "metadata": {},
     "output_type": "execute_result"
    }
   ],
   "source": [
    "dJdW1, dJdW2 = NN.costFunctionPrime(X,y)\n",
    "dJdW1, dJdW2"
   ]
  },
  {
   "cell_type": "code",
   "execution_count": 244,
   "metadata": {
    "collapsed": false
   },
   "outputs": [
    {
     "data": {
      "text/plain": [
       "array([ 0.48228807])"
      ]
     },
     "execution_count": 244,
     "metadata": {},
     "output_type": "execute_result"
    }
   ],
   "source": [
    "scalar = 3\n",
    "NN.W1 = NN.W1 + scalar * dJdW1\n",
    "NN.W2 = NN.W2 + scalar * dJdW2\n",
    "NN.costFunction(X,y)"
   ]
  },
  {
   "cell_type": "markdown",
   "metadata": {},
   "source": [
    "# 5 Numerical Gradient"
   ]
  },
  {
   "cell_type": "code",
   "execution_count": 245,
   "metadata": {
    "collapsed": false
   },
   "outputs": [
    {
     "data": {
      "text/plain": [
       "<matplotlib.collections.PathCollection at 0x10fd7ab70>"
      ]
     },
     "execution_count": 245,
     "metadata": {},
     "output_type": "execute_result"
    },
    {
     "data": {
      "image/png": "[encoded data removed]",
      "text/plain": [
       "<matplotlib.figure.Figure at 0x10fc053c8>"
      ]
     },
     "metadata": {},
     "output_type": "display_data"
    }
   ],
   "source": [
    "x = np.arange(-5, 5, 0.01)\n",
    "plt.plot(x, x**2, 'b')\n",
    "plt.grid(1)\n",
    "plt.scatter(1.5, 1.5**2)"
   ]
  },
  {
   "cell_type": "code",
   "execution_count": 251,
   "metadata": {
    "collapsed": false
   },
   "outputs": [
    {
     "data": {
      "text/plain": [
       "(2.9999999999996696, 3.0)"
      ]
     },
     "execution_count": 251,
     "metadata": {},
     "output_type": "execute_result"
    }
   ],
   "source": [
    "def f(x):\n",
    "    return x**2\n",
    "epsilon = 1e-4\n",
    "x = 1.5\n",
    "\n",
    "numericGradient = (f(x+epsilon) - f(x-epsilon))/(2 * epsilon)\n",
    "# verification:\n",
    "numericGradient, 2*x"
   ]
  },
  {
   "cell_type": "code",
   "execution_count": 253,
   "metadata": {
    "collapsed": false
   },
   "outputs": [
    {
     "data": {
      "text/plain": [
       "array([-0.10832181,  0.29157752, -2.32875267, -0.79858892,  0.77523413,\n",
       "        0.01438056,  0.45891691, -1.01902928,  0.55968482])"
      ]
     },
     "execution_count": 253,
     "metadata": {},
     "output_type": "execute_result"
    }
   ],
   "source": [
    "NN.getParams()"
   ]
  },
  {
   "cell_type": "code",
   "execution_count": 260,
   "metadata": {
    "collapsed": false
   },
   "outputs": [
    {
     "data": {
      "text/plain": [
       "array([-0.0269274 , -0.00625294,  0.0535152 , -0.01712459, -0.00425763,\n",
       "        0.03704035,  0.0800578 ,  0.12394559,  0.0490642 ])"
      ]
     },
     "metadata": {},
     "output_type": "display_data"
    },
    {
     "data": {
      "text/plain": [
       "array([ 0.02535875,  0.00589676, -0.05122405,  0.01697504,  0.00424728,\n",
       "       -0.03729985, -0.07870872, -0.1205269 , -0.04933063])"
      ]
     },
     "metadata": {},
     "output_type": "display_data"
    },
    {
     "data": {
      "text/plain": [
       "73.212293905780498"
      ]
     },
     "execution_count": 260,
     "metadata": {},
     "output_type": "execute_result"
    }
   ],
   "source": [
    "def computeNumericalGradients(N,X,y):\n",
    "    paramsInitial = N.getParams()\n",
    "    numgrad = np.zeros(paramsInitial.shape)\n",
    "    perturb = np.zeros(paramsInitial.shape)\n",
    "    e = 1e-4\n",
    "    for p in range(len(paramsInitial)):\n",
    "        # set perturbation vector\n",
    "        perturb[p] = e\n",
    "        N.setParams(paramsInitial + perturb)\n",
    "        loss1 = N.costFunction(X,y)\n",
    "        N.setParams(paramsInitial - perturb)\n",
    "        loss2 = N.costFunction(X,y)\n",
    "        \n",
    "        #compute numerical gradient\n",
    "        numgrad[p] = (loss2 - loss1) / (2*e)\n",
    "        \n",
    "        #reset\n",
    "        perturb[p] = 0\n",
    "    #reset\n",
    "    N.setParams(paramsInitial)\n",
    "    return numgrad\n",
    "\n",
    "numgrad = computeNumericalGradients(NN,X,y)\n",
    "grad = NN.computeGradients(X,y)\n",
    "display(numgrad, grad)  # similar      \n",
    "\n",
    "np.linalg.norm(grad - numgrad) / np.linalg.norm(grad+numgrad) # not sure about this"
   ]
  },
  {
   "cell_type": "markdown",
   "metadata": {},
   "source": [
    "# 6 Training\n",
    "BFGS Quasi-Newton optimization of SGD - leverages Hessian"
   ]
  },
  {
   "cell_type": "code",
   "execution_count": 266,
   "metadata": {
    "collapsed": true
   },
   "outputs": [],
   "source": [
    "from scipy import optimize\n",
    "\n",
    "class Trainer(object):\n",
    "    def __init__(self,N):\n",
    "        self.N = N\n",
    "        \n",
    "    def costFuncWrapper(self, params, X, y):\n",
    "        self.N.setParams(params)\n",
    "        cost = self.N.costFunction(X,y)\n",
    "        grad = self.N.computeGradients(X,y)\n",
    "        return cost, grad\n",
    "    \n",
    "    def callbackF(self, params):\n",
    "        self.N.setParams(params)\n",
    "        self.J.append(self.N.costFunction(self.X, self.y))\n",
    "        \n",
    "    def train(self, X, y):\n",
    "        self.X = X\n",
    "        self.y = y\n",
    "        self.J = [] # costs\n",
    "        params0 = self.N.getParams()\n",
    "        options = {'maxiter': 200, 'disp': True}\n",
    "        # set jacobian\n",
    "        _res = optimize.minimize( \\\n",
    "             self.costFuncWrapper, params0, jac=True, method='BFGS', args=(X,y), options=options, callback=self.callbackF)\n",
    "        self.N.setParams(_res.x)\n",
    "        self.optimizationResults = _res"
   ]
  },
  {
   "cell_type": "code",
   "execution_count": 280,
   "metadata": {
    "collapsed": false
   },
   "outputs": [
    {
     "name": "stdout",
     "output_type": "stream",
     "text": [
      "Warning: Desired error not necessarily achieved due to precision loss.\n",
      "         Current function value: 0.040577\n",
      "         Iterations: 3\n",
      "         Function evaluations: 96\n",
      "         Gradient evaluations: 84\n"
     ]
    },
    {
     "data": {
      "text/plain": [
       "<matplotlib.text.Text at 0x111ef29b0>"
      ]
     },
     "execution_count": 280,
     "metadata": {},
     "output_type": "execute_result"
    },
    {
     "data": {
      "image/png": "[encoded data removed]",
      "text/plain": [
       "<matplotlib.figure.Figure at 0x111a99828>"
      ]
     },
     "metadata": {},
     "output_type": "display_data"
    }
   ],
   "source": [
    "NN = Neural_Network()\n",
    "T = Trainer(NN)\n",
    "T.train(X,y)\n",
    "plt.plot(T.J)\n",
    "plt.grid(1)\n",
    "plt.ylabel('Cost')\n",
    "plt.xlabel('Iterations')\n",
    "#hmmmm ...."
   ]
  },
  {
   "cell_type": "code",
   "execution_count": 281,
   "metadata": {
    "collapsed": false
   },
   "outputs": [
    {
     "data": {
      "text/plain": [
       "(array([[-0.02306668, -0.05445037, -0.00996909],\n",
       "        [-0.01709984, -0.02921199, -0.00573783]]), array([[-0.00477078],\n",
       "        [-0.02088484],\n",
       "        [-0.00580673]]))"
      ]
     },
     "execution_count": 281,
     "metadata": {},
     "output_type": "execute_result"
    }
   ],
   "source": [
    "NN.costFunctionPrime(X,y)"
   ]
  },
  {
   "cell_type": "code",
   "execution_count": 282,
   "metadata": {
    "collapsed": false
   },
   "outputs": [
    {
     "data": {
      "text/plain": [
       "(array([[ 0.96101082],\n",
       "        [ 0.96878685],\n",
       "        [ 0.8296233 ]]), array([[ 0.75],\n",
       "        [ 0.82],\n",
       "        [ 0.95]]))"
      ]
     },
     "execution_count": 282,
     "metadata": {},
     "output_type": "execute_result"
    }
   ],
   "source": [
    "NN.forward(X), y "
   ]
  },
  {
   "cell_type": "markdown",
   "metadata": {},
   "source": [
    "# 7 Overfitting"
   ]
  },
  {
   "cell_type": "code",
   "execution_count": 284,
   "metadata": {
    "collapsed": true
   },
   "outputs": [],
   "source": [
    "# fit the signal, not the noise\n",
    "# TODO: regularize the cost function"
   ]
  },
  {
   "cell_type": "code",
   "execution_count": null,
   "metadata": {
    "collapsed": true
   },
   "outputs": [],
   "source": []
  }
 ],
 "metadata": {
  "anaconda-cloud": {},
  "kernelspec": {
   "display_name": "Python [conda env:gcloud]",
   "language": "python",
   "name": "conda-env-gcloud-py"
  },
  "language_info": {
   "codemirror_mode": {
    "name": "ipython",
    "version": 3
   },
   "file_extension": ".py",
   "mimetype": "text/x-python",
   "name": "python",
   "nbconvert_exporter": "python",
   "pygments_lexer": "ipython3",
   "version": "3.5.2"
  }
 },
 "nbformat": 4,
 "nbformat_minor": 1
}
